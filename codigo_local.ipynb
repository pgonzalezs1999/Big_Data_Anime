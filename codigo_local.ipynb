{
 "cells": [
  {
   "cell_type": "markdown",
   "id": "304f950d-ef07-4b1a-85e1-e79bcfa6fdd4",
   "metadata": {},
   "source": [
    "## 0. Preparación de los ficheros"
   ]
  },
  {
   "cell_type": "markdown",
   "id": "1a3075ae-f3d8-408d-8f29-45e1f066ee8c",
   "metadata": {},
   "source": [
    "#### Cargar paquetes y librerías necesarias"
   ]
  },
  {
   "cell_type": "code",
   "execution_count": 1,
   "id": "b6c82018-b0dc-40c9-b8f1-00ed1fe4db8d",
   "metadata": {
    "tags": []
   },
   "outputs": [],
   "source": [
    "import sys\n",
    "import pyspark\n",
    "import findspark\n",
    "from pyspark import SparkConf\n",
    "from pyspark import SparkContext\n",
    "from pyspark.mllib.recommendation import ALS, Rating\n",
    "from pyspark.sql.functions import *\n",
    "from pyspark.sql import SparkSession\n",
    "from pyspark.sql import SQLContext\n",
    "from pyspark.sql.functions import explode\n",
    "from pyspark.sql.types import IntegerType\n",
    "from pyspark.sql import functions as F\n",
    "import pandas as pd\n",
    "pd.set_option('display.max_rows', None)"
   ]
  },
  {
   "cell_type": "code",
   "execution_count": 2,
   "id": "d313dc61-d827-4c3f-b334-3699610a0c9b",
   "metadata": {},
   "outputs": [],
   "source": [
    "from pyspark.ml.feature import StringIndexer\n",
    "from pyspark.ml.evaluation import RegressionEvaluator\n",
    "from pyspark.ml.recommendation import ALS\n",
    "from pyspark.ml.tuning import TrainValidationSplit, ParamGridBuilder\n",
    "from pyspark.ml.stat import Summarizer\n",
    "import numpy as np"
   ]
  },
  {
   "cell_type": "code",
   "execution_count": 3,
   "id": "eb355c1a-6162-4ff4-bea7-4d04b5011ed6",
   "metadata": {},
   "outputs": [],
   "source": [
    "conf = SparkConf().setMaster(\"local\").setAppName(\"AML\")\n",
    "spark = SparkSession.builder.getOrCreate()"
   ]
  },
  {
   "cell_type": "markdown",
   "id": "781b6b77-24df-4c5b-9040-63f44dc966f3",
   "metadata": {},
   "source": [
    "#### Importar los CSV y formatearlos"
   ]
  },
  {
   "cell_type": "code",
   "execution_count": 4,
   "id": "dccc9a10-524f-4389-94e8-42a9770a6ae2",
   "metadata": {},
   "outputs": [],
   "source": [
    "CSVanime = spark.read.option(\"quote\", \"\\\"\").option(\"escape\", \"\\\"\").csv('../dataset_valoraciones_anime/anime.csv', inferSchema=True, header=True)"
   ]
  },
  {
   "cell_type": "code",
   "execution_count": 5,
   "id": "de60fc61-27cf-40de-a79b-3776084e79ee",
   "metadata": {},
   "outputs": [],
   "source": [
    "CSVrating = spark.read.option(\"quote\", \"\\\"\").option(\"escape\", \"\\\"\").csv('../dataset_valoraciones_anime/rating_complete.csv', inferSchema=True, header=True)"
   ]
  },
  {
   "cell_type": "code",
   "execution_count": 6,
   "id": "7762cd62-4103-4968-8ec9-2e9b56270398",
   "metadata": {},
   "outputs": [],
   "source": [
    "CSVep = spark.read.option(\"quote\", \"\\\"\").option(\"escape\", \"\\\"\").csv('../dataset_valoraciones_anime/valoraciones_EP.csv', inferSchema=True, header=True).toDF(\"user_id\", \"anime_id\", \"rating\")"
   ]
  },
  {
   "cell_type": "markdown",
   "id": "e53d8c5c-f346-4ed9-858b-a8e47798568b",
   "metadata": {},
   "source": [
    "#### Comprobar que maneja bien las comas y las comillas"
   ]
  },
  {
   "cell_type": "code",
   "execution_count": 7,
   "id": "4f520cb1-14fa-4924-b4eb-4c75526b2b5b",
   "metadata": {},
   "outputs": [
    {
     "name": "stdout",
     "output_type": "stream",
     "text": [
      "Dos primeros nombres que contienen [,]:\n",
      "+-------------------------------------+---+\n",
      "|Name                                 |ID |\n",
      "+-------------------------------------+---+\n",
      "|Ima, Soko ni Iru Boku                |160|\n",
      "|Chiisana Obake: Acchi, Kocchi, Socchi|310|\n",
      "+-------------------------------------+---+\n",
      "only showing top 2 rows\n",
      "\n",
      "Dos primeros nombres que contienen [']:\n",
      "+------------------------------------------------------+---+\n",
      "|Name                                                  |ID |\n",
      "+------------------------------------------------------+---+\n",
      "|Mahou Shoujo Lyrical Nanoha A's                       |77 |\n",
      "|Mobile Suit Gundam: The 08th MS Team - Miller's Report|83 |\n",
      "+------------------------------------------------------+---+\n",
      "only showing top 2 rows\n",
      "\n",
      "Dos primeros nombres que contienen [\"]:\n",
      "+-----------------------------------------------------+----+\n",
      "|Name                                                 |ID  |\n",
      "+-----------------------------------------------------+----+\n",
      "|Love Hina: Motoko no Sentaku, Koi ka Ken... \"Naku na\"|963 |\n",
      "|Lupin III: Episode 0 \"First Contact\"                 |1418|\n",
      "+-----------------------------------------------------+----+\n",
      "only showing top 2 rows\n",
      "\n",
      "Dos primeros nombres con caracteres japoneses:\n",
      "+---------------------------+---+\n",
      "|Japanese name              |ID |\n",
      "+---------------------------+---+\n",
      "|カウボーイビバップ         |1  |\n",
      "|カウボーイビバップ 天国の扉|5  |\n",
      "+---------------------------+---+\n",
      "only showing top 2 rows\n",
      "\n"
     ]
    }
   ],
   "source": [
    "print(\"Dos primeros nombres que contienen [,]:\")\n",
    "CSVanime.select(\"Name\", \"ID\").filter(col(\"Name\").like(\"%,%\")).show(2, truncate=False)\n",
    "print(\"Dos primeros nombres que contienen [']:\")\n",
    "CSVanime.select(\"Name\", \"ID\").filter(col(\"Name\").like(\"%'%\")).show(2, truncate=False)\n",
    "print(\"Dos primeros nombres que contienen [\\\"]:\")\n",
    "CSVanime.select(\"Name\", \"ID\").filter(col(\"Name\").like('%\"%')).show(2, truncate=False)\n",
    "print(\"Dos primeros nombres con caracteres japoneses:\")\n",
    "CSVanime.select(\"Japanese name\", \"ID\").show(2, truncate=False)"
   ]
  },
  {
   "cell_type": "markdown",
   "id": "f5b120e0-face-4cf5-a555-690644967828",
   "metadata": {},
   "source": [
    "#### Analizar filas de los CSV"
   ]
  },
  {
   "cell_type": "code",
   "execution_count": 8,
   "id": "98748cce-e5df-4a8b-897e-51320ebe4515",
   "metadata": {},
   "outputs": [
    {
     "name": "stdout",
     "output_type": "stream",
     "text": [
      "['ID', 'Name', 'Score', 'Genres', 'English name', 'Japanese name', 'Type', 'Episodes', 'Aired', 'Premiered', 'Producers', 'Licensors', 'Studios', 'Source', 'Duration', 'Rating', 'Ranked', 'Popularity', 'Members', 'Favorites', 'Watching', 'Completed', 'On-Hold', 'Dropped', 'Plan to Watch', 'Score-10', 'Score-9', 'Score-8', 'Score-7', 'Score-6', 'Score-5', 'Score-4', 'Score-3', 'Score-2', 'Score-1']\n"
     ]
    }
   ],
   "source": [
    "print(CSVanime.columns)"
   ]
  },
  {
   "cell_type": "code",
   "execution_count": 9,
   "id": "a284e0f5-951c-461a-b7c1-a4ab5e834cbe",
   "metadata": {},
   "outputs": [
    {
     "name": "stdout",
     "output_type": "stream",
     "text": [
      "+-------+--------+------+\n",
      "|user_id|anime_id|rating|\n",
      "+-------+--------+------+\n",
      "|      0|     430|     9|\n",
      "|      0|    1004|     5|\n",
      "|      0|    3010|     7|\n",
      "+-------+--------+------+\n",
      "only showing top 3 rows\n",
      "\n"
     ]
    }
   ],
   "source": [
    "CSVrating.show(3)"
   ]
  },
  {
   "cell_type": "markdown",
   "id": "647807a1-507a-41fb-a937-3be9a9982b74",
   "metadata": {},
   "source": [
    "#### Añadir cabeceras al CSV valoraciones"
   ]
  },
  {
   "cell_type": "code",
   "execution_count": 10,
   "id": "309d0e4f-5347-4bc4-96e1-e6c33bcf0f13",
   "metadata": {},
   "outputs": [
    {
     "name": "stdout",
     "output_type": "stream",
     "text": [
      "+-------+--------+------+\n",
      "|user_id|anime_id|rating|\n",
      "+-------+--------+------+\n",
      "| 666666|    1358|   7.0|\n",
      "| 666666|   13601|  10.0|\n",
      "| 666666|    2001|   9.0|\n",
      "+-------+--------+------+\n",
      "only showing top 3 rows\n",
      "\n",
      "El dataframe tiene 64 filas\n"
     ]
    }
   ],
   "source": [
    "CSVep = CSVep.toDF(CSVrating.columns[0], CSVrating.columns[1], CSVrating.columns[2])\n",
    "CSVep.show(3)\n",
    "print(\"El dataframe tiene\", CSVep.count(), \"filas\")"
   ]
  },
  {
   "cell_type": "markdown",
   "id": "e12014bc-ae74-47f3-ab73-107b58d37a1b",
   "metadata": {},
   "source": [
    "## 1. Hacer un análisis exploratorio de los datos con pySpark, mostrando información relevante de los mismos (cuáles son los ítems mejor y peor valorados, la relación entre género y valoraciones, estudios con mejor y peor nota media, etc...)."
   ]
  },
  {
   "cell_type": "code",
   "execution_count": 11,
   "id": "b82f9db7-4934-4d2f-927c-6786d7955f3c",
   "metadata": {},
   "outputs": [
    {
     "name": "stdout",
     "output_type": "stream",
     "text": [
      "Top 3 items con mayor nota media (con al menos 50 valoraciones):\n",
      "+-----------------+----------+--------------------------------+\n",
      "|average          |Nº ratings|Name                            |\n",
      "+-----------------+----------+--------------------------------+\n",
      "|9.24564778301433 |20794     |Gintama°                        |\n",
      "|9.237009769219878|134197    |Fullmetal Alchemist: Brotherhood|\n",
      "|9.224729815638906|9438      |Ginga Eiyuu Densetsu            |\n",
      "+-----------------+----------+--------------------------------+\n",
      "only showing top 3 rows\n",
      "\n",
      "Top 3 items con peor nota media (con al menos 50 valoraciones):\n",
      "+------------------+----------+----------------------------+\n",
      "|average           |Nº ratings|Name                        |\n",
      "+------------------+----------+----------------------------+\n",
      "|1.749909974792942 |5554      |Tenkuu Danzai Skelter+Heaven|\n",
      "|1.842294767162746 |4166      |Utsu Musume Sayuri          |\n",
      "|1.9944827586206897|725       |Tsui no Sora                |\n",
      "+------------------+----------+----------------------------+\n",
      "only showing top 3 rows\n",
      "\n"
     ]
    }
   ],
   "source": [
    "minValoraciones = 50\n",
    "cantidadTop = 3\n",
    "mejorMedia = CSVrating.groupBy(\"anime_id\").agg(F.mean(\"rating\"), F.count(\"rating\"))\n",
    "mejorMedia = mejorMedia.withColumnRenamed(\"avg(rating)\", \"average\")\n",
    "mejorMedia = mejorMedia.withColumnRenamed(\"count(rating)\", \"count\")\n",
    "juntar = CSVanime.select(\"ID\", \"Name\")\n",
    "mejorMedia = mejorMedia.join(juntar, CSVrating.anime_id==juntar.ID)\n",
    "mejorMedia = mejorMedia.where(col(\"count\") > minValoraciones)\n",
    "print(\"Top\", cantidadTop, \"items con mayor nota media (con al menos\", minValoraciones, \"valoraciones):\")\n",
    "mejorMedia.sort(\"average\", ascending=False).withColumnRenamed(\"count\", \"Nº ratings\").drop(\"ID\", \"anime_id\").show(cantidadTop, truncate=False)\n",
    "print(\"Top\", cantidadTop, \"items con peor nota media (con al menos\", minValoraciones, \"valoraciones):\")\n",
    "mejorMedia.sort(\"average\", ascending=True).withColumnRenamed(\"count\", \"Nº ratings\").drop(\"ID\", \"anime_id\").show(cantidadTop, truncate=False)"
   ]
  },
  {
   "cell_type": "markdown",
   "id": "d5420d7e-5d13-4eb3-8ef9-a8f43acaaef6",
   "metadata": {},
   "source": [
    "##### La categoría con menos items tiene 1690, por lo que no será necesario eliminar ninguna a la hora de futuros estudios"
   ]
  },
  {
   "cell_type": "code",
   "execution_count": 12,
   "id": "995959be-ea57-4593-aa5c-624a255f7797",
   "metadata": {},
   "outputs": [
    {
     "name": "stdout",
     "output_type": "stream",
     "text": [
      "Géneros con mejor valoración media:\n",
      "+-------------+------------------+\n",
      "|       Genero|       avg(rating)|\n",
      "+-------------+------------------+\n",
      "|     Thriller| 8.076588242745846|\n",
      "|      Samurai| 7.935889107317298|\n",
      "|   Historical| 7.863716624096956|\n",
      "|     Military| 7.861498646075896|\n",
      "|       Police| 7.835031637882817|\n",
      "|      Mystery| 7.808137348924516|\n",
      "|Psychological| 7.807657061332771|\n",
      "|        Drama| 7.797757413110013|\n",
      "|        Josei| 7.742684443560022|\n",
      "|       Sports| 7.731615768552727|\n",
      "|         Cars| 7.718366576096889|\n",
      "|      Shounen|7.7126795533450245|\n",
      "| Supernatural|7.6884020511113045|\n",
      "|  Super Power| 7.687961121608626|\n",
      "|Slice of Life| 7.680003910870478|\n",
      "|       Parody|  7.63876670708943|\n",
      "|    Adventure| 7.616019414129019|\n",
      "|       Shoujo|  7.60431667784289|\n",
      "|        Space| 7.598700824975208|\n",
      "|       Demons|  7.57933957708387|\n",
      "+-------------+------------------+\n",
      "only showing top 20 rows\n",
      "\n",
      "Géneros con peor valoración media:\n",
      "+------------+------------------+\n",
      "|      Genero|       avg(rating)|\n",
      "+------------+------------------+\n",
      "|        Yaoi|6.0414369519964675|\n",
      "|      Hentai| 6.341275593904351|\n",
      "|        Yuri| 6.568662562954673|\n",
      "|        Kids|6.9025075230360144|\n",
      "|   Shoujo Ai| 7.065559471779689|\n",
      "|       Ecchi| 7.079598225181754|\n",
      "|       Harem| 7.116251927540968|\n",
      "|  Shounen Ai| 7.280911978322191|\n",
      "|      Horror| 7.326670164237633|\n",
      "|Martial Arts| 7.367050040164438|\n",
      "|       Music| 7.370940165346588|\n",
      "|    Dementia|7.4200758460893095|\n",
      "|     Romance| 7.500094919309267|\n",
      "|     Fantasy|  7.50261722278121|\n",
      "|        Game| 7.506895580003314|\n",
      "|      Comedy|7.5169093860711245|\n",
      "|     Vampire| 7.528019063920766|\n",
      "|      School| 7.539834696963411|\n",
      "|      Sci-Fi| 7.545426214579135|\n",
      "|       Mecha| 7.548044827965048|\n",
      "+------------+------------------+\n",
      "only showing top 20 rows\n",
      "\n"
     ]
    }
   ],
   "source": [
    "print(\"Géneros con mejor valoración media:\")\n",
    "CSVgeneros = CSVanime.select(\"Genres\", \"ID\").filter(CSVanime.Genres != \"Unknown\")\n",
    "CSVgeneros = CSVgeneros.join(CSVrating, CSVgeneros.ID==CSVrating.anime_id).drop(\"ID\", \"anime_id\", \"user_id\")\n",
    "CSVgeneros = CSVgeneros.select(split(col(\"Genres\"), \",\"), \"rating\").withColumnRenamed(\"split(Genres, ,, -1)\", \"Genres\")\n",
    "CSVgeneros = CSVgeneros.select(explode(CSVgeneros.Genres), CSVgeneros.rating).withColumnRenamed(\"col\", \"Genero\")\n",
    "CSVgeneros = CSVgeneros.withColumn(\"Genero\", trim(CSVgeneros.Genero))\n",
    "CSVgeneros.groupBy(\"Genero\").agg(F.mean(\"rating\")).sort(\"avg(rating)\", ascending=False).show()\n",
    "print(\"Géneros con peor valoración media:\")\n",
    "CSVgeneros.groupBy(\"Genero\").agg(F.mean(\"rating\")).sort(\"avg(rating)\", ascending=True).show()"
   ]
  },
  {
   "cell_type": "code",
   "execution_count": 13,
   "id": "430f2735-3e31-4f5d-b6a0-eaed5747cc52",
   "metadata": {},
   "outputs": [
    {
     "name": "stdout",
     "output_type": "stream",
     "text": [
      "Estudios con peor valoración media (con al menos 30 valoraciones):\n",
      "+--------------------+------------------+\n",
      "|             Studios|  Valoracion_media|\n",
      "+--------------------+------------------+\n",
      "|                 DLE| 5.843207547169812|\n",
      "|           Magic Bus| 6.241388888888888|\n",
      "|          Studio 4°C| 6.268596491228069|\n",
      "|                Arms|6.2762162162162145|\n",
      "|               Seven| 6.388412698412699|\n",
      "|     Production Reed| 6.444406779661016|\n",
      "|                 TNK|6.4730952380952385|\n",
      "|               Zexcs|             6.535|\n",
      "|Tatsunoko Production| 6.537155172413793|\n",
      "|       Studio Hibari| 6.539302325581397|\n",
      "|                 AIC| 6.567372881355933|\n",
      "|                PoRO|6.6000000000000005|\n",
      "|              Gainax| 6.600754716981133|\n",
      "|                 OLM| 6.631657754010694|\n",
      "|  Tezuka Productions| 6.720606060606062|\n",
      "|      Toei Animation| 6.725945485519595|\n",
      "|               Actas|            6.7275|\n",
      "|          LIDENFILMS|            6.7455|\n",
      "|       Kinema Citrus| 6.757714285714287|\n",
      "|           Group TAC| 6.763958333333334|\n",
      "+--------------------+------------------+\n",
      "only showing top 20 rows\n",
      "\n",
      "Estudios con mejor valoración media (con al menos 30 valoraciones):\n",
      "+---------------------+------------------+\n",
      "|Studios              |Valoracion_media  |\n",
      "+---------------------+------------------+\n",
      "|Wit Studio           |7.457999999999999 |\n",
      "|Bones                |7.352520325203253 |\n",
      "|White Fox            |7.350769230769229 |\n",
      "|Kyoto Animation      |7.321727272727272 |\n",
      "|David Production     |7.296969696969697 |\n",
      "|Lerche               |7.270000000000001 |\n",
      "|ufotable             |7.248852459016396 |\n",
      "|Manglobe             |7.204666666666667 |\n",
      "|Tokyo Movie Shinsha  |7.193243243243242 |\n",
      "|Shaft                |7.1771794871794885|\n",
      "|Bandai Namco Pictures|7.1664516129032245|\n",
      "|Artland              |7.1536363636363625|\n",
      "|A-1 Pictures         |7.1387027027027035|\n",
      "|Hal Film Maker       |7.1234375000000005|\n",
      "|MAPPA                |7.091333333333334 |\n",
      "|TMS Entertainment    |7.074407582938392 |\n",
      "|Production I.G       |7.072995951417001 |\n",
      "|8bit                 |7.072682926829269 |\n",
      "|Brain's Base         |7.063882352941176 |\n",
      "|Studio Gokumi        |6.983529411764706 |\n",
      "+---------------------+------------------+\n",
      "only showing top 20 rows\n",
      "\n"
     ]
    }
   ],
   "source": [
    "CSVestudios = CSVanime.select(\"Studios\", \"Score\")\n",
    "CSVestudios = CSVestudios.filter((CSVestudios.Score != \"Unknown\") & (CSVestudios.Studios != \"Unknown\"))\n",
    "CSVestudios = CSVestudios.groupBy(\"Studios\").agg(F.mean(\"Score\"), F.count(\"Score\"))\n",
    "CSVestudios = CSVestudios.withColumnRenamed(\"avg(Score)\", \"Valoracion_media\").withColumnRenamed(\"count(Score)\", \"Cantidad\")\n",
    "CSVestudios = CSVestudios.filter(CSVestudios.Cantidad >= 30).drop(\"Cantidad\")\n",
    "print(\"Estudios con peor valoración media (con al menos 30 valoraciones):\")\n",
    "CSVestudios.orderBy('Valoracion_media', ascending=True).show()\n",
    "print(\"Estudios con mejor valoración media (con al menos 30 valoraciones):\")\n",
    "CSVestudios.orderBy('Valoracion_media', ascending=False).show(truncate=False)"
   ]
  },
  {
   "cell_type": "markdown",
   "id": "1160ddc5-2387-4291-8f5a-6d18aafe4c47",
   "metadata": {},
   "source": [
    "## 2. Crear un programa con Spark ML y el algoritmo de recomendación ALS que genere un listado con 5 series de TV y 5 películas para recomendar al usuario EP (con id 666666) para ello se deben incorporar las valoraciones de EP al fichero de valoraciones total, entrenar el algoritmo y pedirle un listado de recomendaciones para ese usuario. Las recomendaciones generadas deben incluir el ID del anime y los títulos original (name) y en inglés (English name). El listado debe aparecer ordenado por valoración media de cada serie/película"
   ]
  },
  {
   "cell_type": "code",
   "execution_count": 14,
   "id": "79e474d7-f038-4d12-82f3-6b85b1c5e73f",
   "metadata": {},
   "outputs": [],
   "source": [
    "def valMedia(df):\n",
    "    df = df.withColumn(\"Val_media\", col(\"Score-10\")*10+col(\"Score-9\")*9+col(\"Score-8\")*8+col(\"Score-7\")*7+col(\"Score-6\")*6+col(\"Score-5\")*5+col(\"Score-4\")*4+col(\"Score-3\")*3+col(\"Score-2\")*2+col(\"Score-1\"))\n",
    "    df = df.withColumn(\"Val_media\", col(\"Val_media\")/(col(\"Score-1\")+col(\"Score-2\")+col(\"Score-3\")+col(\"Score-4\")+col(\"Score-5\")+col(\"Score-6\")+col(\"Score-7\")+col(\"Score-8\")+col(\"Score-9\")+col(\"Score-10\")))\n",
    "    df = df.drop(\"Score-1\", \"Score-2\", \"Score-3\", \"Score-4\", \"Score-5\", \"Score-6\", \"Score-7\", \"Score-8\", \"Score-9\", \"Score-10\")\n",
    "    return df"
   ]
  },
  {
   "cell_type": "code",
   "execution_count": 15,
   "id": "985e68b0-e146-4c41-925e-532a57a70b5b",
   "metadata": {},
   "outputs": [],
   "source": [
    "def durationNumber(df):\n",
    "    df = df.withColumn(\"Duration\", regexp_replace(\"Duration\", \" per ep.\", \"\"))\n",
    "    df = df.withColumn(\"Duration\", regexp_replace(\"Duration\", \"\\.\", \"\"))\n",
    "    df = df.withColumn(\"Duration\", regexp_replace(\"Duration\", \" hr\", \"h\"))\n",
    "    df = df.withColumn(\"Duration\", regexp_replace(\"Duration\", \" min\", \"m\"))\n",
    "    df = df.withColumn(\"Duration\", reverse(split(col(\"Duration\"), \" \")))\n",
    "    df = df.withColumn(\"mins\", regexp_replace(col(\"Duration\")[0], \"m\", \"\"))\n",
    "    df = df.withColumn(\"hours\", regexp_replace(col(\"Duration\")[1], \"h\", \"\"))\n",
    "    df = df.fillna({\"hours\": 0})\n",
    "    df = df.withColumn(\"DurationN\", col(\"hours\")*60+col(\"mins\"))\n",
    "    df = df.drop(\"Duration\", \"mins\", \"hours\")\n",
    "    return df"
   ]
  },
  {
   "cell_type": "markdown",
   "id": "208c3751-a936-4e5e-89b1-734a5a744d29",
   "metadata": {},
   "source": [
    "#### Limpiar y preparar el dataframe"
   ]
  },
  {
   "cell_type": "code",
   "execution_count": 16,
   "id": "a6a3875f-77bd-4222-841b-65437b074d80",
   "metadata": {},
   "outputs": [
    {
     "name": "stdout",
     "output_type": "stream",
     "text": [
      "El dataframe tiene 46357218 filas\n",
      "root\n",
      " |-- user_id: integer (nullable = true)\n",
      " |-- anime_id: integer (nullable = true)\n",
      " |-- User_rating: double (nullable = true)\n",
      " |-- Genres: string (nullable = true)\n",
      " |-- name: string (nullable = true)\n",
      " |-- English_name: string (nullable = true)\n",
      " |-- Type: string (nullable = true)\n",
      " |-- Episodes: string (nullable = true)\n",
      " |-- Studios: string (nullable = true)\n",
      " |-- Source: string (nullable = true)\n",
      " |-- Ranked: string (nullable = true)\n",
      " |-- Popularity: integer (nullable = true)\n",
      " |-- Val_media: double (nullable = true)\n",
      " |-- DurationN: double (nullable = true)\n",
      "\n",
      "+-------+--------+-----------+--------------------+--------------------+--------------------+-----+--------+---------------+--------+------+----------+-----------------+---------+\n",
      "|user_id|anime_id|User_rating|              Genres|                name|        English_name| Type|Episodes|        Studios|  Source|Ranked|Popularity|        Val_media|DurationN|\n",
      "+-------+--------+-----------+--------------------+--------------------+--------------------+-----+--------+---------------+--------+------+----------+-----------------+---------+\n",
      "|      0|     430|        9.0|Military, Comedy,...|Fullmetal Alchemi...|Fullmetal Alchemi...|Movie|       1|          Bones|   Manga|1361.0|       506|7.587968995355985|    105.0|\n",
      "|      0|    1004|        5.0|Drama, Psychologi...|Kanojo to Kanojo ...|She and Her Cat:T...|  OVA|       1|        Unknown|Original|2226.0|      1624|7.350737797956867|      4.0|\n",
      "|      0|    3010|        7.0|Adventure, Histor...|      Kaiketsu Zorro|The Magnificent Z...|   TV|      52|Ashi Production|   Other|2655.0|      5104|7.227823867262285|     24.0|\n",
      "|      0|     570|        7.0|Military, Police,...|             Jin-Rou|Jin-Roh:The Wolf ...|Movie|       1| Production I.G|   Manga| 846.0|      1181|7.796858984381786|    102.0|\n",
      "|      0|     431|        8.0|Adventure, Drama,...| Howl no Ugoku Shiro|Howl's Moving Castle|Movie|       1|  Studio Ghibli|   Novel|  51.0|        98| 8.69212647198615|    119.0|\n",
      "+-------+--------+-----------+--------------------+--------------------+--------------------+-----+--------+---------------+--------+------+----------+-----------------+---------+\n",
      "only showing top 5 rows\n",
      "\n"
     ]
    }
   ],
   "source": [
    "CSVml = CSVrating.union(CSVep).withColumnRenamed(\"rating\", \"User_rating\")\n",
    "CSVml = CSVml.join(CSVanime, CSVml.anime_id==CSVanime.ID)\n",
    "CSVml = CSVml.select(\"user_id\", \"anime_id\", \"User_rating\", \"Genres\", \"name\", \"English name\", \"Type\", \"Episodes\", \"Studios\", \"Source\", \"Ranked\", \"Duration\", \"Popularity\", \"Score-10\", \"Score-9\", \"Score-8\", \"Score-7\", \"Score-6\", \"Score-5\", \"Score-4\", \"Score-3\", \"Score-2\", \"Score-1\")\n",
    "CSVml = CSVml.withColumnRenamed(\"English name\", \"English_name\")\n",
    "CSVml = CSVml.withColumn(\"anime_id\", col(\"anime_id\").cast(IntegerType()))\n",
    "CSVml = valMedia(CSVml)\n",
    "CSVml = durationNumber(CSVml)\n",
    "CSVml = CSVml.where(CSVml.Episodes != \"Unknown\").where(CSVml.English_name != \"null\").where(CSVml.English_name != \"Unknown\")\n",
    "CSVml = CSVml.na.drop(subset=[\"DurationN\", \"Val_media\"])\n",
    "print(\"El dataframe tiene\", CSVml.count(), \"filas\")\n",
    "CSVml.printSchema()\n",
    "CSVml.show(5)"
   ]
  },
  {
   "cell_type": "markdown",
   "id": "a0d65cc5-6ce9-4ade-95cf-9c97732131b7",
   "metadata": {},
   "source": [
    "#### DataFrame con películas"
   ]
  },
  {
   "cell_type": "code",
   "execution_count": 17,
   "id": "cedc3d60-8cc0-4eec-b221-9ef4e1c59bc2",
   "metadata": {},
   "outputs": [
    {
     "name": "stdout",
     "output_type": "stream",
     "text": [
      "El dataframe tiene 6135485 filas\n",
      "+-------+--------+-----------+--------------------+--------------------+--------------------+----------------+--------+------+----------+-----------------+---------+-------+--------+-------+\n",
      "|user_id|anime_id|User_rating|              Genres|                name|        English_name|         Studios|  Source|Ranked|Popularity|        Val_media|DurationN|GenresN|StudiosN|SourceN|\n",
      "+-------+--------+-----------+--------------------+--------------------+--------------------+----------------+--------+------+----------+-----------------+---------+-------+--------+-------+\n",
      "|      0|     430|        9.0|Military, Comedy,...|Fullmetal Alchemi...|Fullmetal Alchemi...|           Bones|   Manga|  1361|       506|7.587968995355985|    105.0|   29.0|    10.0|    1.0|\n",
      "|      0|     570|        7.0|Military, Police,...|             Jin-Rou|Jin-Roh:The Wolf ...|  Production I.G|   Manga|   846|      1181|7.796858984381786|    102.0|  126.0|     5.0|    1.0|\n",
      "|      0|     431|        8.0|Adventure, Drama,...| Howl no Ugoku Shiro|Howl's Moving Castle|   Studio Ghibli|   Novel|    51|        98| 8.69212647198615|    119.0|    7.0|     0.0|    3.0|\n",
      "|      0|     578|       10.0|   Drama, Historical|      Hotaru no Haka|Grave of the Fire...|   Studio Ghibli|   Novel|    99|       293|8.522197106346706|     88.0|   15.0|     0.0|    3.0|\n",
      "|      0|     433|        6.0|Drama, Military, ...|Kumo no Mukou, Ya...|The Place Promise...|CoMix Wave Films|Original|  1393|       846|7.563358079934913|     90.0|   79.0|     4.0|    0.0|\n",
      "+-------+--------+-----------+--------------------+--------------------+--------------------+----------------+--------+------+----------+-----------------+---------+-------+--------+-------+\n",
      "only showing top 5 rows\n",
      "\n"
     ]
    }
   ],
   "source": [
    "EPpelis = CSVml.where(CSVml.Type == \"Movie\").drop(\"Type\", \"Episodes\", \"Japanese_name\")\n",
    "print(\"El dataframe tiene\", EPpelis.count(), \"filas\")\n",
    "EPpelis = EPpelis.withColumn(\"Ranked\", col(\"Ranked\").cast(IntegerType()))\n",
    "indexer = StringIndexer(inputCol=\"Genres\", outputCol=\"GenresN\")\n",
    "EPpelis = indexer.fit(EPpelis).transform(EPpelis)\n",
    "indexer = StringIndexer(inputCol=\"Studios\", outputCol=\"StudiosN\")\n",
    "EPpelis = indexer.fit(EPpelis).transform(EPpelis)\n",
    "indexer = StringIndexer(inputCol=\"Source\", outputCol=\"SourceN\")\n",
    "EPpelis = indexer.fit(EPpelis).transform(EPpelis)\n",
    "EPpelis.show(5)"
   ]
  },
  {
   "cell_type": "code",
   "execution_count": 18,
   "id": "913efb3d-3532-4a27-8f6b-469e815c289a",
   "metadata": {},
   "outputs": [
    {
     "name": "stdout",
     "output_type": "stream",
     "text": [
      "root\n",
      " |-- user_id: integer (nullable = true)\n",
      " |-- anime_id: integer (nullable = true)\n",
      " |-- User_rating: double (nullable = true)\n",
      " |-- name: string (nullable = true)\n",
      " |-- English_name: string (nullable = true)\n",
      " |-- Ranked: integer (nullable = true)\n",
      " |-- Popularity: integer (nullable = true)\n",
      " |-- Val_media: double (nullable = true)\n",
      " |-- DurationN: double (nullable = true)\n",
      " |-- GenresN: double (nullable = false)\n",
      " |-- StudiosN: double (nullable = false)\n",
      " |-- SourceN: double (nullable = false)\n",
      "\n",
      "+-------+--------+-----------+--------------------+--------------------+------+----------+-----------------+---------+-------+--------+-------+\n",
      "|user_id|anime_id|User_rating|                name|        English_name|Ranked|Popularity|        Val_media|DurationN|GenresN|StudiosN|SourceN|\n",
      "+-------+--------+-----------+--------------------+--------------------+------+----------+-----------------+---------+-------+--------+-------+\n",
      "|      0|     430|        9.0|Fullmetal Alchemi...|Fullmetal Alchemi...|  1361|       506|7.587968995355985|    105.0|   29.0|    10.0|    1.0|\n",
      "|      0|     570|        7.0|             Jin-Rou|Jin-Roh:The Wolf ...|   846|      1181|7.796858984381786|    102.0|  126.0|     5.0|    1.0|\n",
      "|      0|     431|        8.0| Howl no Ugoku Shiro|Howl's Moving Castle|    51|        98| 8.69212647198615|    119.0|    7.0|     0.0|    3.0|\n",
      "|      0|     578|       10.0|      Hotaru no Haka|Grave of the Fire...|    99|       293|8.522197106346706|     88.0|   15.0|     0.0|    3.0|\n",
      "|      0|     433|        6.0|Kumo no Mukou, Ya...|The Place Promise...|  1393|       846|7.563358079934913|     90.0|   79.0|     4.0|    0.0|\n",
      "+-------+--------+-----------+--------------------+--------------------+------+----------+-----------------+---------+-------+--------+-------+\n",
      "only showing top 5 rows\n",
      "\n"
     ]
    }
   ],
   "source": [
    "EPpelisN = EPpelis.drop(\"Genres\", \"Studios\", \"Source\")\n",
    "EPpelisN.printSchema()\n",
    "EPpelisN.show(5)"
   ]
  },
  {
   "cell_type": "markdown",
   "id": "0a27e5b3-9f83-4599-b7c2-bd4971e311d2",
   "metadata": {},
   "source": [
    "#### DataFrame con series"
   ]
  },
  {
   "cell_type": "code",
   "execution_count": 19,
   "id": "134775e0-06ec-48e0-85b7-e98da8102788",
   "metadata": {},
   "outputs": [
    {
     "name": "stdout",
     "output_type": "stream",
     "text": [
      "El dataframe tiene 35896854 filas\n",
      "+-------+--------+-----------+--------------------+-------------------+--------------------+----+--------+---------------+------------+------+----------+------------------+---------+-------+-----+--------+-------+\n",
      "|user_id|anime_id|User_rating|              Genres|               name|        English_name|Type|Episodes|        Studios|      Source|Ranked|Popularity|         Val_media|DurationN|GenresN|TypeN|StudiosN|SourceN|\n",
      "+-------+--------+-----------+--------------------+-------------------+--------------------+----+--------+---------------+------------+------+----------+------------------+---------+-------+-----+--------+-------+\n",
      "|      0|    3010|        7.0|Adventure, Histor...|     Kaiketsu Zorro|The Magnificent Z...|  TV|      52|Ashi Production|       Other|  2655|      5104| 7.227823867262285|     24.0| 1336.0|  0.0|   302.0|    8.0|\n",
      "|      0|    1571|       10.0|Mystery, Comedy, ...|         Ghost Hunt|          Ghost Hunt|  TV|      25|      J.C.Staff| Light novel|   811|       766|7.7579663241750785|     25.0|  479.0|  0.0|     0.0|    1.0|\n",
      "|      0|     121|        9.0|Action, Adventure...|Fullmetal Alchemist| Fullmetal Alchemist|  TV|      51|          Bones|       Manga|   337|        52|  8.15076332151554|     24.0|   73.0|  0.0|     3.0|    0.0|\n",
      "|      0|     356|        9.0|Action, Supernatu...|    Fate/stay night|     Fate/stay night|  TV|      24|    Studio Deen|Visual novel|  2152|       119| 7.328928488661634|     24.0|  115.0|  0.0|     4.0|    3.0|\n",
      "|      0|    1250|        7.0|Adventure, Comedy...|    Erementar Gerad|    Elemental Gelade|  TV|      26|          Xebec|       Manga|  2325|      1587| 7.252946728949343|     24.0|  723.0|  0.0|    17.0|    0.0|\n",
      "+-------+--------+-----------+--------------------+-------------------+--------------------+----+--------+---------------+------------+------+----------+------------------+---------+-------+-----+--------+-------+\n",
      "only showing top 5 rows\n",
      "\n"
     ]
    }
   ],
   "source": [
    "EPseries = CSVml.where(((CSVml.Type == \"ONA\") & (CSVml.Episodes > 1)) | (CSVml.Type == \"TV\")).drop(\"Japanese_name\")\n",
    "print(\"El dataframe tiene\", EPseries.count(), \"filas\")\n",
    "EPseries = EPseries.withColumn(\"Episodes\", col(\"Episodes\").cast(IntegerType()))\n",
    "EPseries = EPseries.withColumn(\"Ranked\", col(\"Ranked\").cast(IntegerType()))\n",
    "indexer = StringIndexer(inputCol=\"Genres\", outputCol=\"GenresN\")\n",
    "EPseries = indexer.fit(EPseries).transform(EPseries)\n",
    "indexer = StringIndexer(inputCol=\"Type\", outputCol=\"TypeN\")\n",
    "EPseries = indexer.fit(EPseries).transform(EPseries)\n",
    "indexer = StringIndexer(inputCol=\"Studios\", outputCol=\"StudiosN\")\n",
    "EPseries = indexer.fit(EPseries).transform(EPseries)\n",
    "indexer = StringIndexer(inputCol=\"Source\", outputCol=\"SourceN\")\n",
    "EPseries = indexer.fit(EPseries).transform(EPseries)\n",
    "EPseries.show(5)"
   ]
  },
  {
   "cell_type": "code",
   "execution_count": 20,
   "id": "6714c178-7536-4ee0-91cf-4ae6b757cf6a",
   "metadata": {},
   "outputs": [
    {
     "name": "stdout",
     "output_type": "stream",
     "text": [
      "root\n",
      " |-- user_id: integer (nullable = true)\n",
      " |-- anime_id: integer (nullable = true)\n",
      " |-- User_rating: double (nullable = true)\n",
      " |-- name: string (nullable = true)\n",
      " |-- English_name: string (nullable = true)\n",
      " |-- Episodes: integer (nullable = true)\n",
      " |-- Ranked: integer (nullable = true)\n",
      " |-- Popularity: integer (nullable = true)\n",
      " |-- Val_media: double (nullable = true)\n",
      " |-- DurationN: double (nullable = true)\n",
      " |-- GenresN: double (nullable = false)\n",
      " |-- TypeN: double (nullable = false)\n",
      " |-- StudiosN: double (nullable = false)\n",
      " |-- SourceN: double (nullable = false)\n",
      "\n",
      "+-------+--------+-----------+-------------------+--------------------+--------+------+----------+------------------+---------+-------+-----+--------+-------+\n",
      "|user_id|anime_id|User_rating|               name|        English_name|Episodes|Ranked|Popularity|         Val_media|DurationN|GenresN|TypeN|StudiosN|SourceN|\n",
      "+-------+--------+-----------+-------------------+--------------------+--------+------+----------+------------------+---------+-------+-----+--------+-------+\n",
      "|      0|    3010|        7.0|     Kaiketsu Zorro|The Magnificent Z...|      52|  2655|      5104| 7.227823867262285|     24.0| 1336.0|  0.0|   302.0|    8.0|\n",
      "|      0|    1571|       10.0|         Ghost Hunt|          Ghost Hunt|      25|   811|       766|7.7579663241750785|     25.0|  479.0|  0.0|     0.0|    1.0|\n",
      "|      0|     121|        9.0|Fullmetal Alchemist| Fullmetal Alchemist|      51|   337|        52|  8.15076332151554|     24.0|   73.0|  0.0|     3.0|    0.0|\n",
      "|      0|     356|        9.0|    Fate/stay night|     Fate/stay night|      24|  2152|       119| 7.328928488661634|     24.0|  115.0|  0.0|     4.0|    3.0|\n",
      "|      0|    1250|        7.0|    Erementar Gerad|    Elemental Gelade|      26|  2325|      1587| 7.252946728949343|     24.0|  723.0|  0.0|    17.0|    0.0|\n",
      "+-------+--------+-----------+-------------------+--------------------+--------+------+----------+------------------+---------+-------+-----+--------+-------+\n",
      "only showing top 5 rows\n",
      "\n"
     ]
    }
   ],
   "source": [
    "EPseriesN = EPseries.drop(\"Genres\", \"Type\", \"Studios\", \"Source\")\n",
    "EPseriesN.printSchema()\n",
    "EPseriesN.show(5)"
   ]
  },
  {
   "cell_type": "markdown",
   "id": "6d4f7c1c-c0e7-4a82-ab8f-5b955bab339b",
   "metadata": {},
   "source": [
    "#### Entrenamiento películas"
   ]
  },
  {
   "cell_type": "code",
   "execution_count": 21,
   "id": "67ad619a-11a5-4470-b0a0-05d32375529e",
   "metadata": {},
   "outputs": [
    {
     "name": "stdout",
     "output_type": "stream",
     "text": [
      "+-------+---------------------------------------------------------------------------------------------------+\n",
      "|user_id|recommendations                                                                                    |\n",
      "+-------+---------------------------------------------------------------------------------------------------+\n",
      "|34     |[{32890, 17.97881}, {40811, 17.349768}, {32269, 16.618448}, {3362, 14.566329}, {16480, 13.598028}] |\n",
      "|53     |[{32890, 21.307026}, {30268, 16.022106}, {16776, 14.56802}, {40811, 13.736708}, {31135, 13.680226}]|\n",
      "|65     |[{33533, 27.701912}, {17469, 27.217438}, {25921, 20.402641}, {13817, 19.524263}, {29135, 17.34979}]|\n",
      "|78     |[{25093, 17.741339}, {30268, 14.929622}, {31135, 11.68317}, {6728, 10.904329}, {7366, 10.706601}]  |\n",
      "|85     |[{8598, 7.55478}, {3784, 7.5107765}, {33049, 7.4911385}, {433, 7.3989887}, {1689, 7.351724}]       |\n",
      "+-------+---------------------------------------------------------------------------------------------------+\n",
      "only showing top 5 rows\n",
      "\n"
     ]
    }
   ],
   "source": [
    "training, test = EPpelisN.randomSplit([0.8, 0.2])\n",
    "als = ALS(maxIter=5, regParam=0.01, userCol=\"user_id\", itemCol=\"anime_id\", ratingCol=\"User_rating\", coldStartStrategy=\"drop\")\n",
    "model = als.fit(training)\n",
    "predictions = model.transform(test)\n",
    "evaluator = RegressionEvaluator(metricName=\"rmse\", labelCol=\"User_rating\", predictionCol=\"prediction\")\n",
    "\n",
    "userRecs = model.recommendForAllUsers(5)\n",
    "userRecs.show(5, truncate=False)"
   ]
  },
  {
   "cell_type": "code",
   "execution_count": 22,
   "id": "993abb89-a830-4fe5-b78c-a6aa68da3842",
   "metadata": {},
   "outputs": [
    {
     "name": "stdout",
     "output_type": "stream",
     "text": [
      "root\n",
      " |-- user_id: integer (nullable = false)\n",
      " |-- anime_id: integer (nullable = true)\n",
      " |-- rating: float (nullable = true)\n",
      "\n",
      "+-------+--------+---------+\n",
      "|user_id|anime_id|rating   |\n",
      "+-------+--------+---------+\n",
      "|666666 |16776   |21.626589|\n",
      "|666666 |37661   |17.088545|\n",
      "|666666 |4621    |16.063705|\n",
      "|666666 |23343   |16.050005|\n",
      "|666666 |10149   |15.463894|\n",
      "+-------+--------+---------+\n",
      "\n"
     ]
    }
   ],
   "source": [
    "recomPelis = userRecs.where(col(\"user_id\") == 666666)\n",
    "recomPelis = recomPelis.select(\"user_id\", explode(recomPelis.recommendations)).withColumnRenamed(\"col\", \"seleccion\")\n",
    "recomPelis = recomPelis.select(\"user_id\", \"seleccion.*\")\n",
    "recomPelis.printSchema()\n",
    "recomPelis.show(truncate=False)"
   ]
  },
  {
   "cell_type": "markdown",
   "id": "7968b1da-702c-4e5f-87b9-fce7ae99ada6",
   "metadata": {},
   "source": [
    "#### Entrenamiento series\n",
    "#### En el caso de las series, no cabían en la memoria de mi ordenador, así que esta parte la trabajé desde un clúster de Google Cloud. Adjunto capturas del resultado, y el código aaparecerá comentado a continuación"
   ]
  },
  {
   "cell_type": "markdown",
   "id": "e4844058-1dd7-48a1-bab1-86485ff145ba",
   "metadata": {},
   "source": [
    "<img src=\"./gcloud_01.png\"/>"
   ]
  },
  {
   "cell_type": "markdown",
   "id": "0fa786d3-e52a-48f3-870b-027ecfb6a274",
   "metadata": {},
   "source": [
    "<img src=\"./gcloud_02.png\"/>"
   ]
  },
  {
   "cell_type": "code",
   "execution_count": 23,
   "id": "421c6e79-3800-46b2-a16b-ace2c695d0d7",
   "metadata": {},
   "outputs": [],
   "source": [
    "# training, test = EPseriesN.randomSplit([0.8, 0.2])\n",
    "# als = ALS(maxIter=5, regParam=0.01, userCol=\"user_id\", itemCol=\"anime_id\", ratingCol=\"User_rating\", coldStartStrategy=\"drop\")\n",
    "# model = als.fit(training)\n",
    "# predictions = model.transform(test)\n",
    "# evaluator = RegressionEvaluator(metricName=\"rmse\", labelCol=\"User_rating\", predictionCol=\"prediction\")\n",
    "\n",
    "# userRecs = model.recommendForAllUsers(5)\n",
    "# userRecs.show(5, truncate=False)"
   ]
  },
  {
   "cell_type": "code",
   "execution_count": 24,
   "id": "2e28e5af-e7e0-40be-963b-7e4f048e0733",
   "metadata": {},
   "outputs": [],
   "source": [
    "# recomSeries = userRecs.where(col(\"user_id\") == 666666)\n",
    "# recomSeries = recomSeries.select(\"user_id\", explode(recomSeries.recommendations)).withColumnRenamed(\"col\", \"seleccion\")\n",
    "# recomSeries = recomSeries.select(\"user_id\", \"seleccion.*\")\n",
    "# recomSeries.printSchema()\n",
    "# recomSeries.show(truncate=False)"
   ]
  },
  {
   "cell_type": "markdown",
   "id": "95d6c7ee-c0a6-4559-8b35-7423a44278dd",
   "metadata": {},
   "source": [
    "#### Películas recomedadas para EP:"
   ]
  },
  {
   "cell_type": "code",
   "execution_count": 25,
   "id": "8086f0e9-3899-4140-b841-09eb90abf8e8",
   "metadata": {},
   "outputs": [
    {
     "name": "stdout",
     "output_type": "stream",
     "text": [
      "+--------+-----------+--------------------------------------------------------+--------------------------------------+-----------------+\n",
      "|anime_id|User_rating|name                                                    |English_name                          |Val_media        |\n",
      "+--------+-----------+--------------------------------------------------------+--------------------------------------+-----------------+\n",
      "|4621    |7.0        |Arisubyeon-ui Kkumnamu                                  |The Olympic Challenge                 |6.194444444444445|\n",
      "|32890   |7.0        |Tu Xia Zhi Qing Li Chuanshuo                            |Legend of a Rabbit:The Martial of Fire|5.745762711864407|\n",
      "|21129   |3.0        |Youtai Nuhai Zai Shanghai                               |A Jewish Girl in Shanghai             |5.621951219512195|\n",
      "|37392   |2.0        |Xi Yang Yang Yu Hui Tai Lang: Zhi Yang Nian Xi Yang Yang|Amazing Pleasant Goat                 |5.159090909090909|\n",
      "|33533   |5.0        |Tokyo Onlypic                                           |Tokyo Onlypic Pictures 2008           |5.135135135135135|\n",
      "+--------+-----------+--------------------------------------------------------+--------------------------------------+-----------------+\n",
      "\n"
     ]
    }
   ],
   "source": [
    "EPpelisElegidas = EPpelis.where((col(\"anime_id\") == 32890) | (col(\"anime_id\") == 33533) | (col(\"anime_id\") == 21129) | (col(\"anime_id\") == 37392) | (col(\"anime_id\") == 4621))\n",
    "EPpelisElegidas = EPpelisElegidas.dropDuplicates([\"anime_id\"])\n",
    "EPpelisElegidas = EPpelisElegidas.select(\"anime_id\", \"User_rating\", \"name\", \"English_name\", \"Val_media\")\n",
    "EPpelisElegidas = EPpelisElegidas.sort(\"Val_media\", ascending=False)\n",
    "EPpelisElegidas.show(truncate=False)"
   ]
  },
  {
   "cell_type": "markdown",
   "id": "36fa6b38-5431-451c-a75b-df9bfed8a12e",
   "metadata": {},
   "source": [
    "<img src=\"./gcloud_03.png\"/>"
   ]
  },
  {
   "cell_type": "code",
   "execution_count": 26,
   "id": "8868d191-1f83-47f9-8b40-86d7bc820d52",
   "metadata": {},
   "outputs": [],
   "source": [
    "# EPseriesElegidas = EPseries.where((col(\"anime_id\") == 32890) | (col(\"anime_id\") == 33533) | (col(\"anime_id\") == 21129) | (col(\"anime_id\") == 37392) | (col(\"anime_id\") == 4621))\n",
    "# EPseriesElegidas = EPseriesElegidas.dropDuplicates([\"anime_id\"])\n",
    "# EPseriesElegidas = EPseriesElegidas.select(\"anime_id\", \"User_rating\", \"name\", \"English_name\", \"Val_media\")\n",
    "# EPseriesElegidas = EPseriesElegidas.sort(\"Val_media\", ascending=False)\n",
    "# EPseriesElegidas.show(truncate=False)"
   ]
  },
  {
   "cell_type": "markdown",
   "id": "2b537bac-3f73-4f04-af77-6591eb19708d",
   "metadata": {
    "tags": []
   },
   "source": [
    "## 3. Además se debe recuperar y mostrar información detallada (sinopsis, imagen, trailer, etc.) de cada serie o película extrayendo la información con la API Jikan (https://docs.api.jikan.moe). Por ejemplo, para recuperar la información básica del anime con ID 13601, hay que hacer una llamada a la URL https://api.jikan.moe/v4/anime/13601/full y luego parsear los datos del JSON que devuelve. Mostrar la información recuperada de forma gráfica en el cuaderno"
   ]
  },
  {
   "cell_type": "code",
   "execution_count": 29,
   "id": "27291b75-cf2f-4de6-9ea7-18da5193cb26",
   "metadata": {},
   "outputs": [],
   "source": [
    "import requests\n",
    "from IPython.display import HTML\n",
    "# from IPython.display import Image\n",
    "# from IPython.core.display import HTML\n",
    "# import urllib\n",
    "# from PIL import Image"
   ]
  },
  {
   "cell_type": "code",
   "execution_count": 52,
   "id": "1512b3b0-cd84-40d9-b038-87338738cf8c",
   "metadata": {},
   "outputs": [
    {
     "name": "stdout",
     "output_type": "stream",
     "text": [
      "{'youtube_id': None, 'url': None, 'embed_url': None, 'images': {'image_url': None, 'small_image_url': None, 'medium_image_url': None, 'large_image_url': None, 'maximum_image_url': None}}\n"
     ]
    }
   ],
   "source": [
    "# ID de las peliculas: 4621 -> 32890 -> 21129 -> 37392 -> 33533\n",
    "# ID de las series:    3869 -> 8786  -> 28145 -> 19987 -> 14623\n",
    "\n",
    "api_url = \"https://api.jikan.moe/v4/anime/4621/full\"\n",
    "response = requests.get(api_url).json()\n",
    "sinopsis_peli1 = response[\"data\"][\"synopsis\"]\n",
    "imagen_peli1 = response[\"data\"][\"images\"][\"jpg\"][\"image_url\"]\n",
    "trailer_peli1 = response[\"data\"][\"trailer\"]\n",
    "# response\n",
    "print(trailer_peli1)"
   ]
  },
  {
   "cell_type": "code",
   "execution_count": 53,
   "id": "4e98eae2-27c4-4996-bc17-7bc835e37c6d",
   "metadata": {},
   "outputs": [
    {
     "data": {
      "text/html": [
       "\n",
       "<p>This is a story of a 13 year old girl whose only dream is to participate in the Olympic Games: Her Struggles, her victories, her failures and her willpower fascinate all who help her to become a outstanding athlete.</p>\n",
       "<div style=\"display:flex;\">\n",
       "    <img src=https://cdn.myanimelist.net/images/anime/11/29304.jpg>\n",
       "    <img src=>\n",
       "</div>\n"
      ],
      "text/plain": [
       "<IPython.core.display.HTML object>"
      ]
     },
     "execution_count": 53,
     "metadata": {},
     "output_type": "execute_result"
    }
   ],
   "source": [
    "html_code = '''\n",
    "<p>'''+sinopsis_peli1+'''</p>\n",
    "<div style=\"display:flex;\">\n",
    "    <img src='''+imagen_peli1+'''>\n",
    "    <img src='''+'''>\n",
    "</div>\n",
    "'''\n",
    "HTML(html_code)"
   ]
  },
  {
   "cell_type": "code",
   "execution_count": null,
   "id": "10b7d346-7ece-4142-aa08-257dd05729ae",
   "metadata": {},
   "outputs": [],
   "source": []
  },
  {
   "cell_type": "code",
   "execution_count": null,
   "id": "52a22c36-1f32-4aa2-9221-8392e5709c72",
   "metadata": {},
   "outputs": [],
   "source": []
  },
  {
   "cell_type": "code",
   "execution_count": null,
   "id": "42e7dfc7-890b-4f5a-b5a2-b855ff4d2854",
   "metadata": {},
   "outputs": [],
   "source": []
  },
  {
   "cell_type": "code",
   "execution_count": null,
   "id": "b34869f0-c967-450c-a39f-23dbe468f2b4",
   "metadata": {},
   "outputs": [],
   "source": []
  }
 ],
 "metadata": {
  "kernelspec": {
   "display_name": "Python 3 (ipykernel)",
   "language": "python",
   "name": "python3"
  },
  "language_info": {
   "codemirror_mode": {
    "name": "ipython",
    "version": 3
   },
   "file_extension": ".py",
   "mimetype": "text/x-python",
   "name": "python",
   "nbconvert_exporter": "python",
   "pygments_lexer": "ipython3",
   "version": "3.9.7"
  }
 },
 "nbformat": 4,
 "nbformat_minor": 5
}
